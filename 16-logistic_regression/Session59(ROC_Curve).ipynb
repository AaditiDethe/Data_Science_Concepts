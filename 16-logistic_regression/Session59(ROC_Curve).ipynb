{
 "cells": [
  {
   "cell_type": "markdown",
   "id": "8e3a8cd6",
   "metadata": {},
   "source": [
    "# ROC Curve"
   ]
  },
  {
   "cell_type": "markdown",
   "id": "0d104085",
   "metadata": {},
   "source": [
    "#### Importing important libraries"
   ]
  },
  {
   "cell_type": "code",
   "execution_count": 1,
   "id": "a1f0f301",
   "metadata": {},
   "outputs": [
    {
     "data": {
      "text/html": [
       "<div>\n",
       "<style scoped>\n",
       "    .dataframe tbody tr th:only-of-type {\n",
       "        vertical-align: middle;\n",
       "    }\n",
       "\n",
       "    .dataframe tbody tr th {\n",
       "        vertical-align: top;\n",
       "    }\n",
       "\n",
       "    .dataframe thead th {\n",
       "        text-align: right;\n",
       "    }\n",
       "</style>\n",
       "<table border=\"1\" class=\"dataframe\">\n",
       "  <thead>\n",
       "    <tr style=\"text-align: right;\">\n",
       "      <th></th>\n",
       "      <th>ATTORNEY</th>\n",
       "      <th>CLMSEX</th>\n",
       "      <th>CLMINSUR</th>\n",
       "      <th>SEATBELT</th>\n",
       "      <th>CLMAGE</th>\n",
       "      <th>LOSS</th>\n",
       "    </tr>\n",
       "  </thead>\n",
       "  <tbody>\n",
       "    <tr>\n",
       "      <th>0</th>\n",
       "      <td>0</td>\n",
       "      <td>0.0</td>\n",
       "      <td>1.0</td>\n",
       "      <td>0.0</td>\n",
       "      <td>50.0</td>\n",
       "      <td>34.940</td>\n",
       "    </tr>\n",
       "    <tr>\n",
       "      <th>1</th>\n",
       "      <td>1</td>\n",
       "      <td>1.0</td>\n",
       "      <td>0.0</td>\n",
       "      <td>0.0</td>\n",
       "      <td>18.0</td>\n",
       "      <td>0.891</td>\n",
       "    </tr>\n",
       "    <tr>\n",
       "      <th>2</th>\n",
       "      <td>1</td>\n",
       "      <td>0.0</td>\n",
       "      <td>1.0</td>\n",
       "      <td>0.0</td>\n",
       "      <td>5.0</td>\n",
       "      <td>0.330</td>\n",
       "    </tr>\n",
       "    <tr>\n",
       "      <th>3</th>\n",
       "      <td>0</td>\n",
       "      <td>0.0</td>\n",
       "      <td>1.0</td>\n",
       "      <td>1.0</td>\n",
       "      <td>31.0</td>\n",
       "      <td>0.037</td>\n",
       "    </tr>\n",
       "    <tr>\n",
       "      <th>4</th>\n",
       "      <td>1</td>\n",
       "      <td>0.0</td>\n",
       "      <td>1.0</td>\n",
       "      <td>0.0</td>\n",
       "      <td>30.0</td>\n",
       "      <td>0.038</td>\n",
       "    </tr>\n",
       "  </tbody>\n",
       "</table>\n",
       "</div>"
      ],
      "text/plain": [
       "   ATTORNEY  CLMSEX  CLMINSUR  SEATBELT  CLMAGE    LOSS\n",
       "0         0     0.0       1.0       0.0    50.0  34.940\n",
       "1         1     1.0       0.0       0.0    18.0   0.891\n",
       "2         1     0.0       1.0       0.0     5.0   0.330\n",
       "3         0     0.0       1.0       1.0    31.0   0.037\n",
       "4         1     0.0       1.0       0.0    30.0   0.038"
      ]
     },
     "execution_count": 1,
     "metadata": {},
     "output_type": "execute_result"
    }
   ],
   "source": [
    "import pandas as pd\n",
    "import numpy as np\n",
    "import matplotlib.pyplot as plt\n",
    "import statsmodels.formula.api as sm\n",
    "from sklearn import metrics\n",
    "from sklearn.metrics import roc_curve,auc\n",
    "from sklearn.metrics import classification_report\n",
    "\n",
    "claimants=pd.read_csv(\"C:/16-logistic_regression/claimants.csv\")\n",
    "\n",
    "#The 0th column is CASENUM which is not useful,hence drop the column\n",
    "c1=claimants.drop('CASENUM',axis=1)\n",
    "c1.head()"
   ]
  },
  {
   "cell_type": "code",
   "execution_count": 2,
   "id": "a7defa6a",
   "metadata": {},
   "outputs": [
    {
     "data": {
      "text/html": [
       "<div>\n",
       "<style scoped>\n",
       "    .dataframe tbody tr th:only-of-type {\n",
       "        vertical-align: middle;\n",
       "    }\n",
       "\n",
       "    .dataframe tbody tr th {\n",
       "        vertical-align: top;\n",
       "    }\n",
       "\n",
       "    .dataframe thead th {\n",
       "        text-align: right;\n",
       "    }\n",
       "</style>\n",
       "<table border=\"1\" class=\"dataframe\">\n",
       "  <thead>\n",
       "    <tr style=\"text-align: right;\">\n",
       "      <th></th>\n",
       "      <th>ATTORNEY</th>\n",
       "      <th>CLMSEX</th>\n",
       "      <th>CLMINSUR</th>\n",
       "      <th>SEATBELT</th>\n",
       "      <th>CLMAGE</th>\n",
       "      <th>LOSS</th>\n",
       "    </tr>\n",
       "  </thead>\n",
       "  <tbody>\n",
       "    <tr>\n",
       "      <th>count</th>\n",
       "      <td>1340.000000</td>\n",
       "      <td>1328.000000</td>\n",
       "      <td>1299.000000</td>\n",
       "      <td>1292.000000</td>\n",
       "      <td>1151.000000</td>\n",
       "      <td>1340.000000</td>\n",
       "    </tr>\n",
       "    <tr>\n",
       "      <th>mean</th>\n",
       "      <td>0.488806</td>\n",
       "      <td>0.558735</td>\n",
       "      <td>0.907621</td>\n",
       "      <td>0.017028</td>\n",
       "      <td>28.414422</td>\n",
       "      <td>3.806307</td>\n",
       "    </tr>\n",
       "    <tr>\n",
       "      <th>std</th>\n",
       "      <td>0.500061</td>\n",
       "      <td>0.496725</td>\n",
       "      <td>0.289671</td>\n",
       "      <td>0.129425</td>\n",
       "      <td>20.304451</td>\n",
       "      <td>10.636903</td>\n",
       "    </tr>\n",
       "    <tr>\n",
       "      <th>min</th>\n",
       "      <td>0.000000</td>\n",
       "      <td>0.000000</td>\n",
       "      <td>0.000000</td>\n",
       "      <td>0.000000</td>\n",
       "      <td>0.000000</td>\n",
       "      <td>0.000000</td>\n",
       "    </tr>\n",
       "    <tr>\n",
       "      <th>25%</th>\n",
       "      <td>0.000000</td>\n",
       "      <td>0.000000</td>\n",
       "      <td>1.000000</td>\n",
       "      <td>0.000000</td>\n",
       "      <td>9.000000</td>\n",
       "      <td>0.400000</td>\n",
       "    </tr>\n",
       "    <tr>\n",
       "      <th>50%</th>\n",
       "      <td>0.000000</td>\n",
       "      <td>1.000000</td>\n",
       "      <td>1.000000</td>\n",
       "      <td>0.000000</td>\n",
       "      <td>30.000000</td>\n",
       "      <td>1.069500</td>\n",
       "    </tr>\n",
       "    <tr>\n",
       "      <th>75%</th>\n",
       "      <td>1.000000</td>\n",
       "      <td>1.000000</td>\n",
       "      <td>1.000000</td>\n",
       "      <td>0.000000</td>\n",
       "      <td>43.000000</td>\n",
       "      <td>3.781500</td>\n",
       "    </tr>\n",
       "    <tr>\n",
       "      <th>max</th>\n",
       "      <td>1.000000</td>\n",
       "      <td>1.000000</td>\n",
       "      <td>1.000000</td>\n",
       "      <td>1.000000</td>\n",
       "      <td>95.000000</td>\n",
       "      <td>173.604000</td>\n",
       "    </tr>\n",
       "  </tbody>\n",
       "</table>\n",
       "</div>"
      ],
      "text/plain": [
       "          ATTORNEY       CLMSEX     CLMINSUR     SEATBELT       CLMAGE  \\\n",
       "count  1340.000000  1328.000000  1299.000000  1292.000000  1151.000000   \n",
       "mean      0.488806     0.558735     0.907621     0.017028    28.414422   \n",
       "std       0.500061     0.496725     0.289671     0.129425    20.304451   \n",
       "min       0.000000     0.000000     0.000000     0.000000     0.000000   \n",
       "25%       0.000000     0.000000     1.000000     0.000000     9.000000   \n",
       "50%       0.000000     1.000000     1.000000     0.000000    30.000000   \n",
       "75%       1.000000     1.000000     1.000000     0.000000    43.000000   \n",
       "max       1.000000     1.000000     1.000000     1.000000    95.000000   \n",
       "\n",
       "              LOSS  \n",
       "count  1340.000000  \n",
       "mean      3.806307  \n",
       "std      10.636903  \n",
       "min       0.000000  \n",
       "25%       0.400000  \n",
       "50%       1.069500  \n",
       "75%       3.781500  \n",
       "max     173.604000  "
      ]
     },
     "execution_count": 2,
     "metadata": {},
     "output_type": "execute_result"
    }
   ],
   "source": [
    "c1.describe()"
   ]
  },
  {
   "cell_type": "markdown",
   "id": "9881c107",
   "metadata": {},
   "source": [
    "#### let us check the null values"
   ]
  },
  {
   "cell_type": "code",
   "execution_count": 3,
   "id": "8ccf7726",
   "metadata": {},
   "outputs": [
    {
     "data": {
      "text/plain": [
       "ATTORNEY      0\n",
       "CLMSEX       12\n",
       "CLMINSUR     41\n",
       "SEATBELT     48\n",
       "CLMAGE      189\n",
       "LOSS          0\n",
       "dtype: int64"
      ]
     },
     "execution_count": 3,
     "metadata": {},
     "output_type": "execute_result"
    }
   ],
   "source": [
    "c1.isna().sum()\n",
    "\n",
    "# There are several null values around 290"
   ]
  },
  {
   "cell_type": "markdown",
   "id": "67136cf1",
   "metadata": {},
   "source": [
    "#### Let us use mean imputation for continuous data and mode imputation for discrete data"
   ]
  },
  {
   "cell_type": "code",
   "execution_count": 4,
   "id": "bf99865d",
   "metadata": {},
   "outputs": [
    {
     "data": {
      "text/plain": [
       "28.414422241529106"
      ]
     },
     "execution_count": 4,
     "metadata": {},
     "output_type": "execute_result"
    }
   ],
   "source": [
    "mean_value = c1.CLMAGE.mean()\n",
    "mean_value"
   ]
  },
  {
   "cell_type": "code",
   "execution_count": 5,
   "id": "633731b7",
   "metadata": {},
   "outputs": [
    {
     "data": {
      "text/plain": [
       "0"
      ]
     },
     "execution_count": 5,
     "metadata": {},
     "output_type": "execute_result"
    }
   ],
   "source": [
    "c1.CLMAGE = c1.CLMAGE.fillna(mean_value)\n",
    "c1.CLMAGE.isna().sum()"
   ]
  },
  {
   "cell_type": "markdown",
   "id": "25f6fedc",
   "metadata": {},
   "source": [
    "#### For descrete value like CLMSEX we nedd to use mode imputation"
   ]
  },
  {
   "cell_type": "code",
   "execution_count": 6,
   "id": "11033d42",
   "metadata": {},
   "outputs": [
    {
     "data": {
      "text/plain": [
       "0    1.0\n",
       "Name: CLMSEX, dtype: float64"
      ]
     },
     "execution_count": 6,
     "metadata": {},
     "output_type": "execute_result"
    }
   ],
   "source": [
    "mode_CLMSEX = c1.CLMSEX.mode()\n",
    "mode_CLMSEX"
   ]
  },
  {
   "cell_type": "code",
   "execution_count": 7,
   "id": "e2050656",
   "metadata": {},
   "outputs": [],
   "source": [
    "# Here if you will observe the output it is 0 1 i.e. \n",
    "# mode_CLMSEX[0] = 0, mode_CLMSEX[1], we are passing mode_CLMSEX[0]"
   ]
  },
  {
   "cell_type": "code",
   "execution_count": 8,
   "id": "f28caa43",
   "metadata": {},
   "outputs": [],
   "source": [
    "c1.CLMSEX = c1.CLMSEX.fillna((mode_CLMSEX)[0])"
   ]
  },
  {
   "cell_type": "code",
   "execution_count": 9,
   "id": "ec9ba6c3",
   "metadata": {},
   "outputs": [
    {
     "data": {
      "text/plain": [
       "0"
      ]
     },
     "execution_count": 9,
     "metadata": {},
     "output_type": "execute_result"
    }
   ],
   "source": [
    "c1.CLMSEX.isna().sum()"
   ]
  },
  {
   "cell_type": "markdown",
   "id": "f6d1a738",
   "metadata": {},
   "source": [
    "#### CLMINSUR"
   ]
  },
  {
   "cell_type": "code",
   "execution_count": 10,
   "id": "6d89cebd",
   "metadata": {},
   "outputs": [
    {
     "data": {
      "text/plain": [
       "0    1.0\n",
       "Name: CLMINSUR, dtype: float64"
      ]
     },
     "execution_count": 10,
     "metadata": {},
     "output_type": "execute_result"
    }
   ],
   "source": [
    "mode_INSUR = c1['CLMINSUR'].mode()\n",
    "mode_INSUR"
   ]
  },
  {
   "cell_type": "code",
   "execution_count": 11,
   "id": "ee9f1606",
   "metadata": {},
   "outputs": [
    {
     "data": {
      "text/plain": [
       "0"
      ]
     },
     "execution_count": 11,
     "metadata": {},
     "output_type": "execute_result"
    }
   ],
   "source": [
    "c1.CLMINSUR = c1.CLMINSUR.fillna((mode_INSUR)[0])\n",
    "c1.CLMINSUR.isna().sum()"
   ]
  },
  {
   "cell_type": "markdown",
   "id": "7662dcdd",
   "metadata": {},
   "source": [
    "#### Seat Belt"
   ]
  },
  {
   "cell_type": "code",
   "execution_count": 12,
   "id": "215b789b",
   "metadata": {},
   "outputs": [
    {
     "data": {
      "text/plain": [
       "0    0.0\n",
       "Name: SEATBELT, dtype: float64"
      ]
     },
     "execution_count": 12,
     "metadata": {},
     "output_type": "execute_result"
    }
   ],
   "source": [
    "mode_SB = c1['SEATBELT'].mode()\n",
    "mode_SB"
   ]
  },
  {
   "cell_type": "code",
   "execution_count": 13,
   "id": "8294f5a8",
   "metadata": {},
   "outputs": [
    {
     "data": {
      "text/plain": [
       "0"
      ]
     },
     "execution_count": 13,
     "metadata": {},
     "output_type": "execute_result"
    }
   ],
   "source": [
    "c1.SEATBELT = c1.SEATBELT.fillna((mode_SB)[0])\n",
    "c1.SEATBELT.isna().sum()"
   ]
  },
  {
   "cell_type": "markdown",
   "id": "41c1a4a9",
   "metadata": {},
   "source": [
    "### Model Building"
   ]
  },
  {
   "cell_type": "code",
   "execution_count": 27,
   "id": "19d2e14f",
   "metadata": {},
   "outputs": [
    {
     "name": "stdout",
     "output_type": "stream",
     "text": [
      "Optimization terminated successfully.\n",
      "         Current function value: 0.609131\n",
      "         Iterations 7\n"
     ]
    },
    {
     "data": {
      "text/html": [
       "<table class=\"simpletable\">\n",
       "<caption>Logit Regression Results</caption>\n",
       "<tr>\n",
       "  <th>Dep. Variable:</th>       <td>ATTORNEY</td>     <th>  No. Observations:  </th>  <td>  1340</td>  \n",
       "</tr>\n",
       "<tr>\n",
       "  <th>Model:</th>                 <td>Logit</td>      <th>  Df Residuals:      </th>  <td>  1334</td>  \n",
       "</tr>\n",
       "<tr>\n",
       "  <th>Method:</th>                 <td>MLE</td>       <th>  Df Model:          </th>  <td>     5</td>  \n",
       "</tr>\n",
       "<tr>\n",
       "  <th>Date:</th>            <td>Thu, 23 Jan 2025</td> <th>  Pseudo R-squ.:     </th>  <td>0.1209</td>  \n",
       "</tr>\n",
       "<tr>\n",
       "  <th>Time:</th>                <td>08:47:04</td>     <th>  Log-Likelihood:    </th> <td> -816.24</td> \n",
       "</tr>\n",
       "<tr>\n",
       "  <th>converged:</th>             <td>True</td>       <th>  LL-Null:           </th> <td> -928.48</td> \n",
       "</tr>\n",
       "<tr>\n",
       "  <th>Covariance Type:</th>     <td>nonrobust</td>    <th>  LLR p-value:       </th> <td>1.620e-46</td>\n",
       "</tr>\n",
       "</table>\n",
       "<table class=\"simpletable\">\n",
       "<tr>\n",
       "      <td></td>         <th>coef</th>     <th>std err</th>      <th>z</th>      <th>P>|z|</th>  <th>[0.025</th>    <th>0.975]</th>  \n",
       "</tr>\n",
       "<tr>\n",
       "  <th>Intercept</th> <td>   -0.1493</td> <td>    0.226</td> <td>   -0.660</td> <td> 0.509</td> <td>   -0.592</td> <td>    0.294</td>\n",
       "</tr>\n",
       "<tr>\n",
       "  <th>CLMAGE</th>    <td>    0.0066</td> <td>    0.003</td> <td>    2.058</td> <td> 0.040</td> <td>    0.000</td> <td>    0.013</td>\n",
       "</tr>\n",
       "<tr>\n",
       "  <th>LOSS</th>      <td>   -0.3228</td> <td>    0.029</td> <td>  -10.962</td> <td> 0.000</td> <td>   -0.381</td> <td>   -0.265</td>\n",
       "</tr>\n",
       "<tr>\n",
       "  <th>CLMINSUR</th>  <td>    0.5284</td> <td>    0.210</td> <td>    2.516</td> <td> 0.012</td> <td>    0.117</td> <td>    0.940</td>\n",
       "</tr>\n",
       "<tr>\n",
       "  <th>CLMSEX</th>    <td>    0.3204</td> <td>    0.120</td> <td>    2.674</td> <td> 0.008</td> <td>    0.086</td> <td>    0.555</td>\n",
       "</tr>\n",
       "<tr>\n",
       "  <th>SEATBELT</th>  <td>   -0.6718</td> <td>    0.522</td> <td>   -1.286</td> <td> 0.198</td> <td>   -1.696</td> <td>    0.352</td>\n",
       "</tr>\n",
       "</table>"
      ],
      "text/latex": [
       "\\begin{center}\n",
       "\\begin{tabular}{lclc}\n",
       "\\toprule\n",
       "\\textbf{Dep. Variable:}   &     ATTORNEY     & \\textbf{  No. Observations:  } &     1340    \\\\\n",
       "\\textbf{Model:}           &      Logit       & \\textbf{  Df Residuals:      } &     1334    \\\\\n",
       "\\textbf{Method:}          &       MLE        & \\textbf{  Df Model:          } &        5    \\\\\n",
       "\\textbf{Date:}            & Thu, 23 Jan 2025 & \\textbf{  Pseudo R-squ.:     } &   0.1209    \\\\\n",
       "\\textbf{Time:}            &     08:47:04     & \\textbf{  Log-Likelihood:    } &   -816.24   \\\\\n",
       "\\textbf{converged:}       &       True       & \\textbf{  LL-Null:           } &   -928.48   \\\\\n",
       "\\textbf{Covariance Type:} &    nonrobust     & \\textbf{  LLR p-value:       } & 1.620e-46   \\\\\n",
       "\\bottomrule\n",
       "\\end{tabular}\n",
       "\\begin{tabular}{lcccccc}\n",
       "                   & \\textbf{coef} & \\textbf{std err} & \\textbf{z} & \\textbf{P$> |$z$|$} & \\textbf{[0.025} & \\textbf{0.975]}  \\\\\n",
       "\\midrule\n",
       "\\textbf{Intercept} &      -0.1493  &        0.226     &    -0.660  &         0.509        &       -0.592    &        0.294     \\\\\n",
       "\\textbf{CLMAGE}    &       0.0066  &        0.003     &     2.058  &         0.040        &        0.000    &        0.013     \\\\\n",
       "\\textbf{LOSS}      &      -0.3228  &        0.029     &   -10.962  &         0.000        &       -0.381    &       -0.265     \\\\\n",
       "\\textbf{CLMINSUR}  &       0.5284  &        0.210     &     2.516  &         0.012        &        0.117    &        0.940     \\\\\n",
       "\\textbf{CLMSEX}    &       0.3204  &        0.120     &     2.674  &         0.008        &        0.086    &        0.555     \\\\\n",
       "\\textbf{SEATBELT}  &      -0.6718  &        0.522     &    -1.286  &         0.198        &       -1.696    &        0.352     \\\\\n",
       "\\bottomrule\n",
       "\\end{tabular}\n",
       "%\\caption{Logit Regression Results}\n",
       "\\end{center}"
      ],
      "text/plain": [
       "<class 'statsmodels.iolib.summary.Summary'>\n",
       "\"\"\"\n",
       "                           Logit Regression Results                           \n",
       "==============================================================================\n",
       "Dep. Variable:               ATTORNEY   No. Observations:                 1340\n",
       "Model:                          Logit   Df Residuals:                     1334\n",
       "Method:                           MLE   Df Model:                            5\n",
       "Date:                Thu, 23 Jan 2025   Pseudo R-squ.:                  0.1209\n",
       "Time:                        08:47:04   Log-Likelihood:                -816.24\n",
       "converged:                       True   LL-Null:                       -928.48\n",
       "Covariance Type:            nonrobust   LLR p-value:                 1.620e-46\n",
       "==============================================================================\n",
       "                 coef    std err          z      P>|z|      [0.025      0.975]\n",
       "------------------------------------------------------------------------------\n",
       "Intercept     -0.1493      0.226     -0.660      0.509      -0.592       0.294\n",
       "CLMAGE         0.0066      0.003      2.058      0.040       0.000       0.013\n",
       "LOSS          -0.3228      0.029    -10.962      0.000      -0.381      -0.265\n",
       "CLMINSUR       0.5284      0.210      2.516      0.012       0.117       0.940\n",
       "CLMSEX         0.3204      0.120      2.674      0.008       0.086       0.555\n",
       "SEATBELT      -0.6718      0.522     -1.286      0.198      -1.696       0.352\n",
       "==============================================================================\n",
       "\"\"\""
      ]
     },
     "execution_count": 27,
     "metadata": {},
     "output_type": "execute_result"
    }
   ],
   "source": [
    "logit_model = sm.logit('ATTORNEY~CLMAGE+LOSS+CLMINSUR+CLMSEX+SEATBELT', data=c1).fit()\n",
    "logit_model.summary()"
   ]
  },
  {
   "cell_type": "code",
   "execution_count": 28,
   "id": "c254382e",
   "metadata": {},
   "outputs": [
    {
     "data": {
      "text/html": [
       "<table class=\"simpletable\">\n",
       "<tr>\n",
       "        <td>Model:</td>              <td>Logit</td>           <td>Method:</td>          <td>MLE</td>   \n",
       "</tr>\n",
       "<tr>\n",
       "  <td>Dependent Variable:</td>     <td>ATTORNEY</td>     <td>Pseudo R-squared:</td>    <td>0.121</td>  \n",
       "</tr>\n",
       "<tr>\n",
       "         <td>Date:</td>        <td>2025-01-23 08:47</td>       <td>AIC:</td>         <td>1644.4709</td>\n",
       "</tr>\n",
       "<tr>\n",
       "   <td>No. Observations:</td>        <td>1340</td>             <td>BIC:</td>         <td>1675.6734</td>\n",
       "</tr>\n",
       "<tr>\n",
       "       <td>Df Model:</td>              <td>5</td>         <td>Log-Likelihood:</td>    <td>-816.24</td> \n",
       "</tr>\n",
       "<tr>\n",
       "     <td>Df Residuals:</td>          <td>1334</td>           <td>LL-Null:</td>        <td>-928.48</td> \n",
       "</tr>\n",
       "<tr>\n",
       "      <td>Converged:</td>           <td>1.0000</td>        <td>LLR p-value:</td>    <td>1.6204e-46</td>\n",
       "</tr>\n",
       "<tr>\n",
       "    <td>No. Iterations:</td>        <td>7.0000</td>           <td>Scale:</td>         <td>1.0000</td>  \n",
       "</tr>\n",
       "</table>\n",
       "<table class=\"simpletable\">\n",
       "<tr>\n",
       "      <td></td>       <th>Coef.</th>  <th>Std.Err.</th>     <th>z</th>     <th>P>|z|</th> <th>[0.025</th>  <th>0.975]</th> \n",
       "</tr>\n",
       "<tr>\n",
       "  <th>Intercept</th> <td>-0.1493</td>  <td>0.2260</td>   <td>-0.6604</td> <td>0.5090</td> <td>-0.5922</td> <td>0.2937</td> \n",
       "</tr>\n",
       "<tr>\n",
       "  <th>CLMAGE</th>    <td>0.0066</td>   <td>0.0032</td>   <td>2.0583</td>  <td>0.0396</td> <td>0.0003</td>  <td>0.0128</td> \n",
       "</tr>\n",
       "<tr>\n",
       "  <th>LOSS</th>      <td>-0.3228</td>  <td>0.0294</td>  <td>-10.9615</td> <td>0.0000</td> <td>-0.3805</td> <td>-0.2651</td>\n",
       "</tr>\n",
       "<tr>\n",
       "  <th>CLMINSUR</th>  <td>0.5284</td>   <td>0.2100</td>   <td>2.5159</td>  <td>0.0119</td> <td>0.1168</td>  <td>0.9400</td> \n",
       "</tr>\n",
       "<tr>\n",
       "  <th>CLMSEX</th>    <td>0.3204</td>   <td>0.1198</td>   <td>2.6736</td>  <td>0.0075</td> <td>0.0855</td>  <td>0.5552</td> \n",
       "</tr>\n",
       "<tr>\n",
       "  <th>SEATBELT</th>  <td>-0.6718</td>  <td>0.5224</td>   <td>-1.2860</td> <td>0.1984</td> <td>-1.6958</td> <td>0.3521</td> \n",
       "</tr>\n",
       "</table><br/>\n"
      ],
      "text/latex": [
       "\\begin{table}\n",
       "\\caption{Results: Logit}\n",
       "\\label{}\n",
       "\\begin{center}\n",
       "\\begin{tabular}{llll}\n",
       "\\hline\n",
       "Model:              & Logit            & Method:           & MLE         \\\\\n",
       "Dependent Variable: & ATTORNEY         & Pseudo R-squared: & 0.121       \\\\\n",
       "Date:               & 2025-01-23 08:47 & AIC:              & 1644.4709   \\\\\n",
       "No. Observations:   & 1340             & BIC:              & 1675.6734   \\\\\n",
       "Df Model:           & 5                & Log-Likelihood:   & -816.24     \\\\\n",
       "Df Residuals:       & 1334             & LL-Null:          & -928.48     \\\\\n",
       "Converged:          & 1.0000           & LLR p-value:      & 1.6204e-46  \\\\\n",
       "No. Iterations:     & 7.0000           & Scale:            & 1.0000      \\\\\n",
       "\\hline\n",
       "\\end{tabular}\n",
       "\\end{center}\n",
       "\n",
       "\\begin{center}\n",
       "\\begin{tabular}{lrrrrrr}\n",
       "\\hline\n",
       "          &   Coef. & Std.Err. &        z & P$> |$z$|$ &  [0.025 &  0.975]  \\\\\n",
       "\\hline\n",
       "Intercept & -0.1493 &   0.2260 &  -0.6604 &      0.5090 & -0.5922 &  0.2937  \\\\\n",
       "CLMAGE    &  0.0066 &   0.0032 &   2.0583 &      0.0396 &  0.0003 &  0.0128  \\\\\n",
       "LOSS      & -0.3228 &   0.0294 & -10.9615 &      0.0000 & -0.3805 & -0.2651  \\\\\n",
       "CLMINSUR  &  0.5284 &   0.2100 &   2.5159 &      0.0119 &  0.1168 &  0.9400  \\\\\n",
       "CLMSEX    &  0.3204 &   0.1198 &   2.6736 &      0.0075 &  0.0855 &  0.5552  \\\\\n",
       "SEATBELT  & -0.6718 &   0.5224 &  -1.2860 &      0.1984 & -1.6958 &  0.3521  \\\\\n",
       "\\hline\n",
       "\\end{tabular}\n",
       "\\end{center}\n",
       "\\end{table}\n",
       "\\bigskip\n"
      ],
      "text/plain": [
       "<class 'statsmodels.iolib.summary2.Summary'>\n",
       "\"\"\"\n",
       "                         Results: Logit\n",
       "=================================================================\n",
       "Model:              Logit            Method:           MLE       \n",
       "Dependent Variable: ATTORNEY         Pseudo R-squared: 0.121     \n",
       "Date:               2025-01-23 08:47 AIC:              1644.4709 \n",
       "No. Observations:   1340             BIC:              1675.6734 \n",
       "Df Model:           5                Log-Likelihood:   -816.24   \n",
       "Df Residuals:       1334             LL-Null:          -928.48   \n",
       "Converged:          1.0000           LLR p-value:      1.6204e-46\n",
       "No. Iterations:     7.0000           Scale:            1.0000    \n",
       "------------------------------------------------------------------\n",
       "              Coef.   Std.Err.     z      P>|z|    [0.025   0.975]\n",
       "------------------------------------------------------------------\n",
       "Intercept    -0.1493    0.2260   -0.6604  0.5090  -0.5922   0.2937\n",
       "CLMAGE        0.0066    0.0032    2.0583  0.0396   0.0003   0.0128\n",
       "LOSS         -0.3228    0.0294  -10.9615  0.0000  -0.3805  -0.2651\n",
       "CLMINSUR      0.5284    0.2100    2.5159  0.0119   0.1168   0.9400\n",
       "CLMSEX        0.3204    0.1198    2.6736  0.0075   0.0855   0.5552\n",
       "SEATBELT     -0.6718    0.5224   -1.2860  0.1984  -1.6958   0.3521\n",
       "=================================================================\n",
       "\n",
       "\"\"\""
      ]
     },
     "execution_count": 28,
     "metadata": {},
     "output_type": "execute_result"
    }
   ],
   "source": [
    "logit_model.summary2()"
   ]
  },
  {
   "cell_type": "code",
   "execution_count": 30,
   "id": "3cf21db8",
   "metadata": {},
   "outputs": [
    {
     "data": {
      "text/plain": [
       "0       0.000026\n",
       "1       0.500422\n",
       "2       0.575767\n",
       "3       0.474743\n",
       "4       0.637341\n",
       "          ...   \n",
       "1335    0.593816\n",
       "1336    0.451543\n",
       "1337    0.715776\n",
       "1338    0.309620\n",
       "1339    0.662483\n",
       "Length: 1340, dtype: float64"
      ]
     },
     "execution_count": 30,
     "metadata": {},
     "output_type": "execute_result"
    }
   ],
   "source": [
    "# Let us go for prediction\n",
    "pred = logit_model.predict(c1.iloc[:,1:])\n",
    "pred"
   ]
  },
  {
   "cell_type": "markdown",
   "id": "08270dce",
   "metadata": {},
   "source": [
    "### To derive ROC curve"
   ]
  },
  {
   "cell_type": "markdown",
   "id": "a40d2e68",
   "metadata": {},
   "source": [
    "ROC curve has trp on y-axis and fpr on x-axis, ideally, trp must be high, fpr must be low"
   ]
  },
  {
   "cell_type": "code",
   "execution_count": 31,
   "id": "f0a5099f",
   "metadata": {},
   "outputs": [],
   "source": [
    "fpr, tpr, thresholds = roc_curve(c1.ATTORNEY, pred)"
   ]
  },
  {
   "cell_type": "code",
   "execution_count": 32,
   "id": "6a9fde5b",
   "metadata": {},
   "outputs": [],
   "source": [
    "# To identify optimum threshold"
   ]
  },
  {
   "cell_type": "code",
   "execution_count": 33,
   "id": "67ce30a4",
   "metadata": {},
   "outputs": [
    {
     "data": {
      "text/plain": [
       "0.5294418043694739"
      ]
     },
     "execution_count": 33,
     "metadata": {},
     "output_type": "execute_result"
    }
   ],
   "source": [
    "optimal_idx = np.argmax(tpr-fpr)\n",
    "optimal_threshold = thresholds[optimal_idx]\n",
    "optimal_threshold"
   ]
  },
  {
   "cell_type": "markdown",
   "id": "594246f7",
   "metadata": {},
   "source": [
    "0.52944, by default you can take 0.5 value as a threshold.\n",
    "\n",
    "Now we want to identify if new value is given to the model, it will fall in which region 0 or 1, for that we need to derive ROC curve"
   ]
  },
  {
   "cell_type": "markdown",
   "id": "ff247b1e",
   "metadata": {},
   "source": [
    "### To draw ROC curve"
   ]
  },
  {
   "cell_type": "code",
   "execution_count": 35,
   "id": "db83283b",
   "metadata": {},
   "outputs": [],
   "source": [
    "import pylab as pl\n",
    "i = np.arange(len(tpr))\n",
    "roc = pd.DataFrame({\n",
    "    'fpr':pd.Series(fpr, index=i),\n",
    "    'tpr': pd.Series (tpr,index = i),\n",
    "    '1-fpr':pd.Series(1-fpr, index=i),\n",
    "    'tf': pd.Series(tpr-(1-fpr),index = i),\n",
    "    'thresholds': pd.Series(thresholds,index=i)\n",
    "})"
   ]
  },
  {
   "cell_type": "markdown",
   "id": "ce306e83",
   "metadata": {},
   "source": [
    "This code creates a DataFrame called roc using Pandas (pd).\n",
    "    \n",
    "It organizes various metrics related to teh Receiver Operating Characteristics into columns.\n",
    "\n",
    "Each column represents a specific metric, and the row are index"
   ]
  },
  {
   "cell_type": "markdown",
   "id": "b36da555",
   "metadata": {},
   "source": [
    "### Plot ROC curve"
   ]
  },
  {
   "cell_type": "code",
   "execution_count": 36,
   "id": "b1dd260e",
   "metadata": {},
   "outputs": [
    {
     "data": {
      "text/plain": [
       "Text(0, 0.5, 'True positive rate')"
      ]
     },
     "execution_count": 36,
     "metadata": {},
     "output_type": "execute_result"
    },
    {
     "data": {
      "image/png": "[encoded data removed]",
      "text/plain": [
       "<Figure size 640x480 with 1 Axes>"
      ]
     },
     "metadata": {},
     "output_type": "display_data"
    }
   ],
   "source": [
    "plt.plot(fpr,tpr)\n",
    "plt.xlabel(\"False positive rate\");plt.ylabel(\"True positive rate\")"
   ]
  },
  {
   "cell_type": "code",
   "execution_count": 37,
   "id": "76b93858",
   "metadata": {},
   "outputs": [],
   "source": [
    "roc_auc = auc(fpr,tpr)"
   ]
  },
  {
   "cell_type": "code",
   "execution_count": 38,
   "id": "260d6afd",
   "metadata": {},
   "outputs": [
    {
     "name": "stdout",
     "output_type": "stream",
     "text": [
      "Area under the curve 0.760101\n"
     ]
    }
   ],
   "source": [
    "print(\"Area under the curve %f\"%roc_auc)"
   ]
  },
  {
   "cell_type": "markdown",
   "id": "f902da83",
   "metadata": {},
   "source": [
    "### Now let us add prediction column in DataFrame"
   ]
  },
  {
   "cell_type": "code",
   "execution_count": 41,
   "id": "07ee7ab6",
   "metadata": {},
   "outputs": [],
   "source": [
    "c1[\"pred\"] = np.zeros(1340)"
   ]
  },
  {
   "cell_type": "code",
   "execution_count": 42,
   "id": "9d01bbdc",
   "metadata": {},
   "outputs": [],
   "source": [
    "c1.loc[pred>optimal_threshold, \"pred\"]=1"
   ]
  },
  {
   "cell_type": "markdown",
   "id": "f27fb79f",
   "metadata": {},
   "source": [
    "if predicted value is greater than optimal threshold then change pred column"
   ]
  },
  {
   "cell_type": "markdown",
   "id": "3997c60c",
   "metadata": {},
   "source": [
    "### Classification Report"
   ]
  },
  {
   "cell_type": "code",
   "execution_count": 43,
   "id": "00f36b11",
   "metadata": {},
   "outputs": [
    {
     "data": {
      "text/plain": [
       "'              precision    recall  f1-score   support\\n\\n         0.0       0.67      0.74      0.70       615\\n         1.0       0.76      0.69      0.72       725\\n\\n    accuracy                           0.71      1340\\n   macro avg       0.71      0.72      0.71      1340\\nweighted avg       0.72      0.71      0.71      1340\\n'"
      ]
     },
     "execution_count": 43,
     "metadata": {},
     "output_type": "execute_result"
    }
   ],
   "source": [
    "classification = classification_report(c1[\"pred\"],c1[\"ATTORNEY\"])\n",
    "classification"
   ]
  },
  {
   "cell_type": "markdown",
   "id": "b4b54160",
   "metadata": {},
   "source": [
    "### Spliting the data into train and test data"
   ]
  },
  {
   "cell_type": "code",
   "execution_count": 45,
   "id": "04a0a78b",
   "metadata": {},
   "outputs": [],
   "source": [
    "from sklearn.model_selection import train_test_split\n",
    "train_data, test_data = train_test_split(c1,test_size = 0.3)"
   ]
  },
  {
   "cell_type": "code",
   "execution_count": 48,
   "id": "b52fabba",
   "metadata": {},
   "outputs": [
    {
     "name": "stdout",
     "output_type": "stream",
     "text": [
      "Optimization terminated successfully.\n",
      "         Current function value: 0.586972\n",
      "         Iterations 8\n"
     ]
    }
   ],
   "source": [
    "model = sm.logit('ATTORNEY~CLMAGE+LOSS+CLMINSUR+CLMSEX+SEATBELT', data=train_data).fit()"
   ]
  },
  {
   "cell_type": "code",
   "execution_count": 49,
   "id": "95f244f3",
   "metadata": {},
   "outputs": [
    {
     "data": {
      "text/html": [
       "<table class=\"simpletable\">\n",
       "<caption>Logit Regression Results</caption>\n",
       "<tr>\n",
       "  <th>Dep. Variable:</th>       <td>ATTORNEY</td>     <th>  No. Observations:  </th>  <td>   938</td>  \n",
       "</tr>\n",
       "<tr>\n",
       "  <th>Model:</th>                 <td>Logit</td>      <th>  Df Residuals:      </th>  <td>   932</td>  \n",
       "</tr>\n",
       "<tr>\n",
       "  <th>Method:</th>                 <td>MLE</td>       <th>  Df Model:          </th>  <td>     5</td>  \n",
       "</tr>\n",
       "<tr>\n",
       "  <th>Date:</th>            <td>Thu, 23 Jan 2025</td> <th>  Pseudo R-squ.:     </th>  <td>0.1530</td>  \n",
       "</tr>\n",
       "<tr>\n",
       "  <th>Time:</th>                <td>09:32:15</td>     <th>  Log-Likelihood:    </th> <td> -550.58</td> \n",
       "</tr>\n",
       "<tr>\n",
       "  <th>converged:</th>             <td>True</td>       <th>  LL-Null:           </th> <td> -650.00</td> \n",
       "</tr>\n",
       "<tr>\n",
       "  <th>Covariance Type:</th>     <td>nonrobust</td>    <th>  LLR p-value:       </th> <td>5.034e-41</td>\n",
       "</tr>\n",
       "</table>\n",
       "<table class=\"simpletable\">\n",
       "<tr>\n",
       "      <td></td>         <th>coef</th>     <th>std err</th>      <th>z</th>      <th>P>|z|</th>  <th>[0.025</th>    <th>0.975]</th>  \n",
       "</tr>\n",
       "<tr>\n",
       "  <th>Intercept</th> <td>    0.0760</td> <td>    0.292</td> <td>    0.261</td> <td> 0.794</td> <td>   -0.496</td> <td>    0.647</td>\n",
       "</tr>\n",
       "<tr>\n",
       "  <th>CLMAGE</th>    <td>    0.0041</td> <td>    0.004</td> <td>    1.053</td> <td> 0.292</td> <td>   -0.004</td> <td>    0.012</td>\n",
       "</tr>\n",
       "<tr>\n",
       "  <th>LOSS</th>      <td>   -0.4061</td> <td>    0.038</td> <td>  -10.571</td> <td> 0.000</td> <td>   -0.481</td> <td>   -0.331</td>\n",
       "</tr>\n",
       "<tr>\n",
       "  <th>CLMINSUR</th>  <td>    0.5872</td> <td>    0.272</td> <td>    2.162</td> <td> 0.031</td> <td>    0.055</td> <td>    1.119</td>\n",
       "</tr>\n",
       "<tr>\n",
       "  <th>CLMSEX</th>    <td>    0.2081</td> <td>    0.147</td> <td>    1.412</td> <td> 0.158</td> <td>   -0.081</td> <td>    0.497</td>\n",
       "</tr>\n",
       "<tr>\n",
       "  <th>SEATBELT</th>  <td>   -0.3018</td> <td>    0.576</td> <td>   -0.524</td> <td> 0.600</td> <td>   -1.431</td> <td>    0.828</td>\n",
       "</tr>\n",
       "</table>"
      ],
      "text/latex": [
       "\\begin{center}\n",
       "\\begin{tabular}{lclc}\n",
       "\\toprule\n",
       "\\textbf{Dep. Variable:}   &     ATTORNEY     & \\textbf{  No. Observations:  } &      938    \\\\\n",
       "\\textbf{Model:}           &      Logit       & \\textbf{  Df Residuals:      } &      932    \\\\\n",
       "\\textbf{Method:}          &       MLE        & \\textbf{  Df Model:          } &        5    \\\\\n",
       "\\textbf{Date:}            & Thu, 23 Jan 2025 & \\textbf{  Pseudo R-squ.:     } &   0.1530    \\\\\n",
       "\\textbf{Time:}            &     09:32:15     & \\textbf{  Log-Likelihood:    } &   -550.58   \\\\\n",
       "\\textbf{converged:}       &       True       & \\textbf{  LL-Null:           } &   -650.00   \\\\\n",
       "\\textbf{Covariance Type:} &    nonrobust     & \\textbf{  LLR p-value:       } & 5.034e-41   \\\\\n",
       "\\bottomrule\n",
       "\\end{tabular}\n",
       "\\begin{tabular}{lcccccc}\n",
       "                   & \\textbf{coef} & \\textbf{std err} & \\textbf{z} & \\textbf{P$> |$z$|$} & \\textbf{[0.025} & \\textbf{0.975]}  \\\\\n",
       "\\midrule\n",
       "\\textbf{Intercept} &       0.0760  &        0.292     &     0.261  &         0.794        &       -0.496    &        0.647     \\\\\n",
       "\\textbf{CLMAGE}    &       0.0041  &        0.004     &     1.053  &         0.292        &       -0.004    &        0.012     \\\\\n",
       "\\textbf{LOSS}      &      -0.4061  &        0.038     &   -10.571  &         0.000        &       -0.481    &       -0.331     \\\\\n",
       "\\textbf{CLMINSUR}  &       0.5872  &        0.272     &     2.162  &         0.031        &        0.055    &        1.119     \\\\\n",
       "\\textbf{CLMSEX}    &       0.2081  &        0.147     &     1.412  &         0.158        &       -0.081    &        0.497     \\\\\n",
       "\\textbf{SEATBELT}  &      -0.3018  &        0.576     &    -0.524  &         0.600        &       -1.431    &        0.828     \\\\\n",
       "\\bottomrule\n",
       "\\end{tabular}\n",
       "%\\caption{Logit Regression Results}\n",
       "\\end{center}"
      ],
      "text/plain": [
       "<class 'statsmodels.iolib.summary.Summary'>\n",
       "\"\"\"\n",
       "                           Logit Regression Results                           \n",
       "==============================================================================\n",
       "Dep. Variable:               ATTORNEY   No. Observations:                  938\n",
       "Model:                          Logit   Df Residuals:                      932\n",
       "Method:                           MLE   Df Model:                            5\n",
       "Date:                Thu, 23 Jan 2025   Pseudo R-squ.:                  0.1530\n",
       "Time:                        09:32:15   Log-Likelihood:                -550.58\n",
       "converged:                       True   LL-Null:                       -650.00\n",
       "Covariance Type:            nonrobust   LLR p-value:                 5.034e-41\n",
       "==============================================================================\n",
       "                 coef    std err          z      P>|z|      [0.025      0.975]\n",
       "------------------------------------------------------------------------------\n",
       "Intercept      0.0760      0.292      0.261      0.794      -0.496       0.647\n",
       "CLMAGE         0.0041      0.004      1.053      0.292      -0.004       0.012\n",
       "LOSS          -0.4061      0.038    -10.571      0.000      -0.481      -0.331\n",
       "CLMINSUR       0.5872      0.272      2.162      0.031       0.055       1.119\n",
       "CLMSEX         0.2081      0.147      1.412      0.158      -0.081       0.497\n",
       "SEATBELT      -0.3018      0.576     -0.524      0.600      -1.431       0.828\n",
       "==============================================================================\n",
       "\"\"\""
      ]
     },
     "execution_count": 49,
     "metadata": {},
     "output_type": "execute_result"
    }
   ],
   "source": [
    "model.summary()"
   ]
  },
  {
   "cell_type": "code",
   "execution_count": 50,
   "id": "534a34b0",
   "metadata": {},
   "outputs": [
    {
     "data": {
      "text/html": [
       "<table class=\"simpletable\">\n",
       "<tr>\n",
       "        <td>Model:</td>              <td>Logit</td>           <td>Method:</td>          <td>MLE</td>   \n",
       "</tr>\n",
       "<tr>\n",
       "  <td>Dependent Variable:</td>     <td>ATTORNEY</td>     <td>Pseudo R-squared:</td>    <td>0.153</td>  \n",
       "</tr>\n",
       "<tr>\n",
       "         <td>Date:</td>        <td>2025-01-23 09:32</td>       <td>AIC:</td>         <td>1113.1603</td>\n",
       "</tr>\n",
       "<tr>\n",
       "   <td>No. Observations:</td>         <td>938</td>             <td>BIC:</td>         <td>1142.2228</td>\n",
       "</tr>\n",
       "<tr>\n",
       "       <td>Df Model:</td>              <td>5</td>         <td>Log-Likelihood:</td>    <td>-550.58</td> \n",
       "</tr>\n",
       "<tr>\n",
       "     <td>Df Residuals:</td>           <td>932</td>           <td>LL-Null:</td>        <td>-650.00</td> \n",
       "</tr>\n",
       "<tr>\n",
       "      <td>Converged:</td>           <td>1.0000</td>        <td>LLR p-value:</td>    <td>5.0338e-41</td>\n",
       "</tr>\n",
       "<tr>\n",
       "    <td>No. Iterations:</td>        <td>8.0000</td>           <td>Scale:</td>         <td>1.0000</td>  \n",
       "</tr>\n",
       "</table>\n",
       "<table class=\"simpletable\">\n",
       "<tr>\n",
       "      <td></td>       <th>Coef.</th>  <th>Std.Err.</th>     <th>z</th>     <th>P>|z|</th> <th>[0.025</th>  <th>0.975]</th> \n",
       "</tr>\n",
       "<tr>\n",
       "  <th>Intercept</th> <td>0.0760</td>   <td>0.2916</td>   <td>0.2606</td>  <td>0.7944</td> <td>-0.4955</td> <td>0.6475</td> \n",
       "</tr>\n",
       "<tr>\n",
       "  <th>CLMAGE</th>    <td>0.0041</td>   <td>0.0039</td>   <td>1.0529</td>  <td>0.2924</td> <td>-0.0035</td> <td>0.0117</td> \n",
       "</tr>\n",
       "<tr>\n",
       "  <th>LOSS</th>      <td>-0.4061</td>  <td>0.0384</td>  <td>-10.5708</td> <td>0.0000</td> <td>-0.4814</td> <td>-0.3308</td>\n",
       "</tr>\n",
       "<tr>\n",
       "  <th>CLMINSUR</th>  <td>0.5872</td>   <td>0.2715</td>   <td>2.1624</td>  <td>0.0306</td> <td>0.0550</td>  <td>1.1194</td> \n",
       "</tr>\n",
       "<tr>\n",
       "  <th>CLMSEX</th>    <td>0.2081</td>   <td>0.1474</td>   <td>1.4118</td>  <td>0.1580</td> <td>-0.0808</td> <td>0.4970</td> \n",
       "</tr>\n",
       "<tr>\n",
       "  <th>SEATBELT</th>  <td>-0.3018</td>  <td>0.5762</td>   <td>-0.5238</td> <td>0.6004</td> <td>-1.4312</td> <td>0.8276</td> \n",
       "</tr>\n",
       "</table><br/>\n"
      ],
      "text/latex": [
       "\\begin{table}\n",
       "\\caption{Results: Logit}\n",
       "\\label{}\n",
       "\\begin{center}\n",
       "\\begin{tabular}{llll}\n",
       "\\hline\n",
       "Model:              & Logit            & Method:           & MLE         \\\\\n",
       "Dependent Variable: & ATTORNEY         & Pseudo R-squared: & 0.153       \\\\\n",
       "Date:               & 2025-01-23 09:32 & AIC:              & 1113.1603   \\\\\n",
       "No. Observations:   & 938              & BIC:              & 1142.2228   \\\\\n",
       "Df Model:           & 5                & Log-Likelihood:   & -550.58     \\\\\n",
       "Df Residuals:       & 932              & LL-Null:          & -650.00     \\\\\n",
       "Converged:          & 1.0000           & LLR p-value:      & 5.0338e-41  \\\\\n",
       "No. Iterations:     & 8.0000           & Scale:            & 1.0000      \\\\\n",
       "\\hline\n",
       "\\end{tabular}\n",
       "\\end{center}\n",
       "\n",
       "\\begin{center}\n",
       "\\begin{tabular}{lrrrrrr}\n",
       "\\hline\n",
       "          &   Coef. & Std.Err. &        z & P$> |$z$|$ &  [0.025 &  0.975]  \\\\\n",
       "\\hline\n",
       "Intercept &  0.0760 &   0.2916 &   0.2606 &      0.7944 & -0.4955 &  0.6475  \\\\\n",
       "CLMAGE    &  0.0041 &   0.0039 &   1.0529 &      0.2924 & -0.0035 &  0.0117  \\\\\n",
       "LOSS      & -0.4061 &   0.0384 & -10.5708 &      0.0000 & -0.4814 & -0.3308  \\\\\n",
       "CLMINSUR  &  0.5872 &   0.2715 &   2.1624 &      0.0306 &  0.0550 &  1.1194  \\\\\n",
       "CLMSEX    &  0.2081 &   0.1474 &   1.4118 &      0.1580 & -0.0808 &  0.4970  \\\\\n",
       "SEATBELT  & -0.3018 &   0.5762 &  -0.5238 &      0.6004 & -1.4312 &  0.8276  \\\\\n",
       "\\hline\n",
       "\\end{tabular}\n",
       "\\end{center}\n",
       "\\end{table}\n",
       "\\bigskip\n"
      ],
      "text/plain": [
       "<class 'statsmodels.iolib.summary2.Summary'>\n",
       "\"\"\"\n",
       "                         Results: Logit\n",
       "=================================================================\n",
       "Model:              Logit            Method:           MLE       \n",
       "Dependent Variable: ATTORNEY         Pseudo R-squared: 0.153     \n",
       "Date:               2025-01-23 09:32 AIC:              1113.1603 \n",
       "No. Observations:   938              BIC:              1142.2228 \n",
       "Df Model:           5                Log-Likelihood:   -550.58   \n",
       "Df Residuals:       932              LL-Null:          -650.00   \n",
       "Converged:          1.0000           LLR p-value:      5.0338e-41\n",
       "No. Iterations:     8.0000           Scale:            1.0000    \n",
       "------------------------------------------------------------------\n",
       "              Coef.   Std.Err.     z      P>|z|    [0.025   0.975]\n",
       "------------------------------------------------------------------\n",
       "Intercept     0.0760    0.2916    0.2606  0.7944  -0.4955   0.6475\n",
       "CLMAGE        0.0041    0.0039    1.0529  0.2924  -0.0035   0.0117\n",
       "LOSS         -0.4061    0.0384  -10.5708  0.0000  -0.4814  -0.3308\n",
       "CLMINSUR      0.5872    0.2715    2.1624  0.0306   0.0550   1.1194\n",
       "CLMSEX        0.2081    0.1474    1.4118  0.1580  -0.0808   0.4970\n",
       "SEATBELT     -0.3018    0.5762   -0.5238  0.6004  -1.4312   0.8276\n",
       "=================================================================\n",
       "\n",
       "\"\"\""
      ]
     },
     "execution_count": 50,
     "metadata": {},
     "output_type": "execute_result"
    }
   ],
   "source": [
    "model.summary2()"
   ]
  },
  {
   "cell_type": "code",
   "execution_count": 51,
   "id": "4bb24aa2",
   "metadata": {},
   "outputs": [],
   "source": [
    "# AIC is 1157"
   ]
  },
  {
   "cell_type": "markdown",
   "id": "b3cef72b",
   "metadata": {},
   "source": [
    "### prediction on test data"
   ]
  },
  {
   "cell_type": "code",
   "execution_count": 54,
   "id": "5418de3b",
   "metadata": {},
   "outputs": [],
   "source": [
    "test_pred = model.predict(test_data)"
   ]
  },
  {
   "cell_type": "code",
   "execution_count": 55,
   "id": "7a23d5e0",
   "metadata": {},
   "outputs": [],
   "source": [
    "test_data[\"test_pred\"] = np.zeros(402)"
   ]
  },
  {
   "cell_type": "markdown",
   "id": "c6f97e31",
   "metadata": {},
   "source": [
    "#### taking threshold value as optimal threshold value"
   ]
  },
  {
   "cell_type": "code",
   "execution_count": 56,
   "id": "3498f394",
   "metadata": {},
   "outputs": [],
   "source": [
    "test_data.loc[test_pred>optimal_threshold,\"test_pred\"]=1"
   ]
  },
  {
   "cell_type": "markdown",
   "id": "6ad06531",
   "metadata": {},
   "source": [
    "### Confusion Matrix"
   ]
  },
  {
   "cell_type": "code",
   "execution_count": 57,
   "id": "def6c971",
   "metadata": {},
   "outputs": [],
   "source": [
    "confusion_matrix = pd.crosstab(test_data.test_pred, test_data.ATTORNEY)"
   ]
  },
  {
   "cell_type": "code",
   "execution_count": 58,
   "id": "b8786097",
   "metadata": {},
   "outputs": [
    {
     "data": {
      "text/html": [
       "<div>\n",
       "<style scoped>\n",
       "    .dataframe tbody tr th:only-of-type {\n",
       "        vertical-align: middle;\n",
       "    }\n",
       "\n",
       "    .dataframe tbody tr th {\n",
       "        vertical-align: top;\n",
       "    }\n",
       "\n",
       "    .dataframe thead th {\n",
       "        text-align: right;\n",
       "    }\n",
       "</style>\n",
       "<table border=\"1\" class=\"dataframe\">\n",
       "  <thead>\n",
       "    <tr style=\"text-align: right;\">\n",
       "      <th>ATTORNEY</th>\n",
       "      <th>0</th>\n",
       "      <th>1</th>\n",
       "    </tr>\n",
       "    <tr>\n",
       "      <th>test_pred</th>\n",
       "      <th></th>\n",
       "      <th></th>\n",
       "    </tr>\n",
       "  </thead>\n",
       "  <tbody>\n",
       "    <tr>\n",
       "      <th>0.0</th>\n",
       "      <td>139</td>\n",
       "      <td>47</td>\n",
       "    </tr>\n",
       "    <tr>\n",
       "      <th>1.0</th>\n",
       "      <td>68</td>\n",
       "      <td>148</td>\n",
       "    </tr>\n",
       "  </tbody>\n",
       "</table>\n",
       "</div>"
      ],
      "text/plain": [
       "ATTORNEY     0    1\n",
       "test_pred          \n",
       "0.0        139   47\n",
       "1.0         68  148"
      ]
     },
     "execution_count": 58,
     "metadata": {},
     "output_type": "execute_result"
    }
   ],
   "source": [
    "confusion_matrix"
   ]
  },
  {
   "cell_type": "code",
   "execution_count": 61,
   "id": "4d4b7b73",
   "metadata": {},
   "outputs": [],
   "source": [
    "accuracy_test = (139+148)/402     # these values may change"
   ]
  },
  {
   "cell_type": "code",
   "execution_count": 62,
   "id": "bf8ca510",
   "metadata": {},
   "outputs": [
    {
     "data": {
      "text/plain": [
       "0.7139303482587065"
      ]
     },
     "execution_count": 62,
     "metadata": {},
     "output_type": "execute_result"
    }
   ],
   "source": [
    "accuracy_test"
   ]
  },
  {
   "cell_type": "markdown",
   "id": "a823fdea",
   "metadata": {},
   "source": [
    "### Classification Report"
   ]
  },
  {
   "cell_type": "code",
   "execution_count": 64,
   "id": "a68e9b30",
   "metadata": {},
   "outputs": [],
   "source": [
    "classification_test = classification_report(test_data[\"test_pred\"], test_data[\"ATTORNEY\"])"
   ]
  },
  {
   "cell_type": "code",
   "execution_count": 65,
   "id": "6ab96c38",
   "metadata": {},
   "outputs": [
    {
     "data": {
      "text/plain": [
       "'              precision    recall  f1-score   support\\n\\n         0.0       0.67      0.75      0.71       186\\n         1.0       0.76      0.69      0.72       216\\n\\n    accuracy                           0.71       402\\n   macro avg       0.72      0.72      0.71       402\\nweighted avg       0.72      0.71      0.71       402\\n'"
      ]
     },
     "execution_count": 65,
     "metadata": {},
     "output_type": "execute_result"
    }
   ],
   "source": [
    "classification_test"
   ]
  },
  {
   "cell_type": "markdown",
   "id": "ea2deed5",
   "metadata": {},
   "source": [
    "## ROC Curve and AUC"
   ]
  },
  {
   "cell_type": "code",
   "execution_count": 66,
   "id": "1fadd83c",
   "metadata": {},
   "outputs": [],
   "source": [
    "fpr,tpr, threshold = metrics.roc_curve(test_data[\"ATTORNEY\"], test_pred)"
   ]
  },
  {
   "cell_type": "markdown",
   "id": "d84ef172",
   "metadata": {},
   "source": [
    "### Plot of ROC"
   ]
  },
  {
   "cell_type": "code",
   "execution_count": 67,
   "id": "3c4d91a1",
   "metadata": {},
   "outputs": [
    {
     "data": {
      "text/plain": [
       "Text(0, 0.5, 'True positive rate')"
      ]
     },
     "execution_count": 67,
     "metadata": {},
     "output_type": "execute_result"
    },
    {
     "data": {
      "image/png": "[encoded data removed]",
      "text/plain": [
       "<Figure size 640x480 with 1 Axes>"
      ]
     },
     "metadata": {},
     "output_type": "display_data"
    }
   ],
   "source": [
    "plt.plot(fpr,tpr);plt.xlabel(\"False positive rate\"); plt.ylabel(\"True positive rate\")"
   ]
  },
  {
   "cell_type": "code",
   "execution_count": 68,
   "id": "0ec7f125",
   "metadata": {},
   "outputs": [],
   "source": [
    "roc_auc = auc(fpr,tpr)"
   ]
  },
  {
   "cell_type": "code",
   "execution_count": 69,
   "id": "687ee419",
   "metadata": {},
   "outputs": [
    {
     "name": "stdout",
     "output_type": "stream",
     "text": [
      "Area under the curve 0.774384\n"
     ]
    }
   ],
   "source": [
    "print(\"Area under the curve %f\"%roc_auc)"
   ]
  },
  {
   "cell_type": "markdown",
   "id": "5d6700c5",
   "metadata": {},
   "source": [
    "# Thank You!!"
   ]
  }
 ],
 "metadata": {
  "kernelspec": {
   "display_name": "Python 3 (ipykernel)",
   "language": "python",
   "name": "python3"
  },
  "language_info": {
   "codemirror_mode": {
    "name": "ipython",
    "version": 3
   },
   "file_extension": ".py",
   "mimetype": "text/x-python",
   "name": "python",
   "nbconvert_exporter": "python",
   "pygments_lexer": "ipython3",
   "version": "3.11.5"
  }
 },
 "nbformat": 4,
 "nbformat_minor": 5
}
