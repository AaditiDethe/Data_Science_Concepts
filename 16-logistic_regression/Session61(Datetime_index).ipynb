{
 "cells": [
  {
   "cell_type": "markdown",
   "id": "ab7a59f4",
   "metadata": {},
   "source": [
    "# Datetime-Index"
   ]
  },
  {
   "cell_type": "code",
   "execution_count": 1,
   "id": "d5a2bd11",
   "metadata": {},
   "outputs": [],
   "source": [
    "from datetime import datetime"
   ]
  },
  {
   "cell_type": "code",
   "execution_count": 2,
   "id": "8ece02ed",
   "metadata": {},
   "outputs": [],
   "source": [
    "# to illustrate the order of arguments\n",
    "my_year = 2017\n",
    "my_month = 1\n",
    "my_day = 2\n",
    "my_hour = 13\n",
    "my_minute = 30\n",
    "my_second = 15"
   ]
  },
  {
   "cell_type": "code",
   "execution_count": 3,
   "id": "dcd966d1",
   "metadata": {},
   "outputs": [],
   "source": [
    "# January 2nd, 2017\n",
    "my_date = datetime(my_year, my_month, my_day)"
   ]
  },
  {
   "cell_type": "code",
   "execution_count": 4,
   "id": "2f03bbe2",
   "metadata": {},
   "outputs": [
    {
     "data": {
      "text/plain": [
       "datetime.datetime(2017, 1, 2, 0, 0)"
      ]
     },
     "execution_count": 4,
     "metadata": {},
     "output_type": "execute_result"
    }
   ],
   "source": [
    "# Default to 0:00\n",
    "my_date"
   ]
  },
  {
   "cell_type": "code",
   "execution_count": 5,
   "id": "28beb713",
   "metadata": {},
   "outputs": [],
   "source": [
    "# January 2nd, 2017 at 13:30:15\n",
    "my_date_time = datetime(my_year, my_month, my_day, my_hour, my_minute, my_second)"
   ]
  },
  {
   "cell_type": "code",
   "execution_count": 6,
   "id": "148e81b1",
   "metadata": {},
   "outputs": [
    {
     "data": {
      "text/plain": [
       "datetime.datetime(2017, 1, 2, 13, 30, 15)"
      ]
     },
     "execution_count": 6,
     "metadata": {},
     "output_type": "execute_result"
    }
   ],
   "source": [
    "my_date_time"
   ]
  },
  {
   "cell_type": "code",
   "execution_count": 7,
   "id": "4ef226e0",
   "metadata": {},
   "outputs": [
    {
     "data": {
      "text/plain": [
       "13"
      ]
     },
     "execution_count": 7,
     "metadata": {},
     "output_type": "execute_result"
    }
   ],
   "source": [
    "my_date_time.hour"
   ]
  },
  {
   "cell_type": "markdown",
   "id": "1b5d6317",
   "metadata": {},
   "source": [
    "# NumPy Datetime Arrays\n",
    "We mentioned that NumPy handles dates more efficiently than Python's datetime format.\n",
    "\n",
    "The NumPy data type is called datetime64 to distinguish "
   ]
  },
  {
   "cell_type": "code",
   "execution_count": 12,
   "id": "77d83dd5",
   "metadata": {},
   "outputs": [],
   "source": [
    "import pandas as pd\n",
    "import numpy as np"
   ]
  },
  {
   "cell_type": "code",
   "execution_count": 14,
   "id": "ee709aec",
   "metadata": {},
   "outputs": [
    {
     "data": {
      "text/plain": [
       "array(['2016-03-15', '2017-05-24', '2018-08-09'], dtype='datetime64[D]')"
      ]
     },
     "execution_count": 14,
     "metadata": {},
     "output_type": "execute_result"
    }
   ],
   "source": [
    "# Create an array from 3 dates\n",
    "np.array(['2016-03-15', '2017-05-24', '2018-08-09'], dtype = 'datetime64')"
   ]
  },
  {
   "cell_type": "code",
   "execution_count": 15,
   "id": "dc374999",
   "metadata": {},
   "outputs": [
    {
     "data": {
      "text/plain": [
       "array(['2016-03-15T00', '2017-05-24T00', '2018-08-09T00'],\n",
       "      dtype='datetime64[h]')"
      ]
     },
     "execution_count": 15,
     "metadata": {},
     "output_type": "execute_result"
    }
   ],
   "source": [
    "np.array(['2016-03-15', '2017-05-24', '2018-08-09'], dtype = 'datetime64[h]')"
   ]
  },
  {
   "cell_type": "code",
   "execution_count": 16,
   "id": "88110bac",
   "metadata": {},
   "outputs": [
    {
     "data": {
      "text/plain": [
       "array(['2016', '2017', '2018'], dtype='datetime64[Y]')"
      ]
     },
     "execution_count": 16,
     "metadata": {},
     "output_type": "execute_result"
    }
   ],
   "source": [
    "np.array(['2016-03-15', '2017-05-24', '2018-08-09'], dtype = 'datetime64[Y]')"
   ]
  },
  {
   "cell_type": "markdown",
   "id": "3d43ea93",
   "metadata": {},
   "source": [
    "# NumPy Date Ranges\n",
    "\n",
    "Just as np.arange(start, stop, step) can be used to produce an array of evenly- spaced integers, we can pass a dtype argument to obtain an array of dates.\n",
    "Remember that teh stop date is exclusiove"
   ]
  },
  {
   "cell_type": "code",
   "execution_count": 17,
   "id": "3891aad4",
   "metadata": {},
   "outputs": [
    {
     "data": {
      "text/plain": [
       "array(['2018-06-01', '2018-06-08', '2018-06-15', '2018-06-22'],\n",
       "      dtype='datetime64[D]')"
      ]
     },
     "execution_count": 17,
     "metadata": {},
     "output_type": "execute_result"
    }
   ],
   "source": [
    "# An array of dates from 6/1/18 to 6/22/18 spaced one week apart\n",
    "np.arange('2018-06-01','2018-06-23',7, dtype = 'datetime64[D]')"
   ]
  },
  {
   "cell_type": "markdown",
   "id": "7d4d1896",
   "metadata": {},
   "source": [
    "By omitting the step value we can obtain every value based on the precision."
   ]
  },
  {
   "cell_type": "code",
   "execution_count": 18,
   "id": "35fee885",
   "metadata": {},
   "outputs": [
    {
     "data": {
      "text/plain": [
       "array(['1968', '1969', '1970', '1971', '1972', '1973', '1974', '1975'],\n",
       "      dtype='datetime64[Y]')"
      ]
     },
     "execution_count": 18,
     "metadata": {},
     "output_type": "execute_result"
    }
   ],
   "source": [
    "# An array of dates for every year from 1968 to 1975\n",
    "np.arange('1968','1976',dtype = 'datetime64[Y]')"
   ]
  },
  {
   "cell_type": "markdown",
   "id": "ee306fe5",
   "metadata": {},
   "source": [
    "# Pandas Datatime Index\n",
    "We will usually deal with the time series as s datetime index when working with pandas dataframes.\n",
    "Fortunately pandas has a lot of functions and methods to work with time series!\n",
    "\n",
    "For more on the pandas DatatimeIndex visit https://pandas.pydata.org/pandas-docs/stable/timeseries.html"
   ]
  },
  {
   "cell_type": "code",
   "execution_count": 19,
   "id": "41dc276e",
   "metadata": {},
   "outputs": [],
   "source": [
    "import pandas as pd"
   ]
  },
  {
   "cell_type": "markdown",
   "id": "da59bc9a",
   "metadata": {},
   "source": [
    "The simplest way to build a DatatimeIndex is with the pd.date_range() method:"
   ]
  },
  {
   "cell_type": "code",
   "execution_count": 21,
   "id": "bf71d306",
   "metadata": {},
   "outputs": [
    {
     "data": {
      "text/plain": [
       "DatetimeIndex(['2018-07-08', '2018-07-09', '2018-07-10', '2018-07-11',\n",
       "               '2018-07-12', '2018-07-13', '2018-07-14'],\n",
       "              dtype='datetime64[ns]', freq='D')"
      ]
     },
     "execution_count": 21,
     "metadata": {},
     "output_type": "execute_result"
    }
   ],
   "source": [
    "# The week of July 8th, 2018\n",
    "idx = pd.date_range('7/8/2018', periods = 7, freq = 'D')\n",
    "idx"
   ]
  },
  {
   "cell_type": "markdown",
   "id": "fb34b0dc",
   "metadata": {},
   "source": [
    "Another way is to convert incoming text with the pd.to_datetime() method:"
   ]
  },
  {
   "cell_type": "code",
   "execution_count": 22,
   "id": "af46296c",
   "metadata": {},
   "outputs": [
    {
     "data": {
      "text/plain": [
       "DatetimeIndex(['2018-01-01', '2018-01-02', '2018-01-03', 'NaT'], dtype='datetime64[ns]', freq=None)"
      ]
     },
     "execution_count": 22,
     "metadata": {},
     "output_type": "execute_result"
    }
   ],
   "source": [
    "idx = pd.to_datetime(['Jan 01, 2018', '1/2/18', '03-Jan-2018', None])\n",
    "idx"
   ]
  },
  {
   "cell_type": "markdown",
   "id": "6e78eb5c",
   "metadata": {},
   "source": [
    "The third way is to pass a list or an array of datetime objects into the pd.DatetimeIndex() method:"
   ]
  },
  {
   "cell_type": "code",
   "execution_count": 23,
   "id": "d3d9458f",
   "metadata": {},
   "outputs": [],
   "source": [
    "# Create a numpy datetime array\n",
    "some_dates = np.array(['2016-03-15','2017-05-24','2018-08-09'], dtype='datetime64[D]')"
   ]
  },
  {
   "cell_type": "code",
   "execution_count": 24,
   "id": "2682c491",
   "metadata": {},
   "outputs": [
    {
     "data": {
      "text/plain": [
       "array(['2016-03-15', '2017-05-24', '2018-08-09'], dtype='datetime64[D]')"
      ]
     },
     "execution_count": 24,
     "metadata": {},
     "output_type": "execute_result"
    }
   ],
   "source": [
    "some_dates"
   ]
  },
  {
   "cell_type": "code",
   "execution_count": 25,
   "id": "f4536d35",
   "metadata": {},
   "outputs": [
    {
     "data": {
      "text/plain": [
       "DatetimeIndex(['2016-03-15', '2017-05-24', '2018-08-09'], dtype='datetime64[ns]', freq=None)"
      ]
     },
     "execution_count": 25,
     "metadata": {},
     "output_type": "execute_result"
    }
   ],
   "source": [
    "# Convert to an index\n",
    "idx = pd.DatetimeIndex(some_dates)\n",
    "idx"
   ]
  },
  {
   "cell_type": "markdown",
   "id": "4743c45f",
   "metadata": {},
   "source": [
    "Notice that even though the dates came into pandas with a day-level precision, pandas assigns a nanosecond- level precison]"
   ]
  },
  {
   "cell_type": "markdown",
   "id": "5fa6dcd0",
   "metadata": {},
   "source": [
    "# Pandas Datetime Analysis"
   ]
  },
  {
   "cell_type": "code",
   "execution_count": 26,
   "id": "1e0588bd",
   "metadata": {},
   "outputs": [
    {
     "name": "stdout",
     "output_type": "stream",
     "text": [
      "[[ 1.1391742  -1.56396912]\n",
      " [ 0.01436633  0.14532238]\n",
      " [ 0.45020085  0.34464953]]\n"
     ]
    }
   ],
   "source": [
    "# Create some random data\n",
    "data = np.random.randn(3,2)\n",
    "cols = ['A','B']\n",
    "print(data)"
   ]
  },
  {
   "cell_type": "code",
   "execution_count": 27,
   "id": "88669c00",
   "metadata": {},
   "outputs": [
    {
     "data": {
      "text/html": [
       "<div>\n",
       "<style scoped>\n",
       "    .dataframe tbody tr th:only-of-type {\n",
       "        vertical-align: middle;\n",
       "    }\n",
       "\n",
       "    .dataframe tbody tr th {\n",
       "        vertical-align: top;\n",
       "    }\n",
       "\n",
       "    .dataframe thead th {\n",
       "        text-align: right;\n",
       "    }\n",
       "</style>\n",
       "<table border=\"1\" class=\"dataframe\">\n",
       "  <thead>\n",
       "    <tr style=\"text-align: right;\">\n",
       "      <th></th>\n",
       "      <th>A</th>\n",
       "      <th>B</th>\n",
       "    </tr>\n",
       "  </thead>\n",
       "  <tbody>\n",
       "    <tr>\n",
       "      <th>2016-03-15</th>\n",
       "      <td>1.139174</td>\n",
       "      <td>-1.563969</td>\n",
       "    </tr>\n",
       "    <tr>\n",
       "      <th>2017-05-24</th>\n",
       "      <td>0.014366</td>\n",
       "      <td>0.145322</td>\n",
       "    </tr>\n",
       "    <tr>\n",
       "      <th>2018-08-09</th>\n",
       "      <td>0.450201</td>\n",
       "      <td>0.344650</td>\n",
       "    </tr>\n",
       "  </tbody>\n",
       "</table>\n",
       "</div>"
      ],
      "text/plain": [
       "                   A         B\n",
       "2016-03-15  1.139174 -1.563969\n",
       "2017-05-24  0.014366  0.145322\n",
       "2018-08-09  0.450201  0.344650"
      ]
     },
     "execution_count": 27,
     "metadata": {},
     "output_type": "execute_result"
    }
   ],
   "source": [
    "# Create a DataFrame with our random data, our data index, and our columns\n",
    "df = pd.DataFrame(data, idx, cols)\n",
    "df"
   ]
  },
  {
   "cell_type": "markdown",
   "id": "60926449",
   "metadata": {},
   "source": [
    "Now we can perform a typicalanalysis of our DataFrame"
   ]
  },
  {
   "cell_type": "code",
   "execution_count": 28,
   "id": "2dbbc897",
   "metadata": {},
   "outputs": [
    {
     "data": {
      "text/plain": [
       "DatetimeIndex(['2016-03-15', '2017-05-24', '2018-08-09'], dtype='datetime64[ns]', freq=None)"
      ]
     },
     "execution_count": 28,
     "metadata": {},
     "output_type": "execute_result"
    }
   ],
   "source": [
    "df.index"
   ]
  },
  {
   "cell_type": "code",
   "execution_count": 29,
   "id": "055488c4",
   "metadata": {},
   "outputs": [
    {
     "data": {
      "text/plain": [
       "Timestamp('2018-08-09 00:00:00')"
      ]
     },
     "execution_count": 29,
     "metadata": {},
     "output_type": "execute_result"
    }
   ],
   "source": [
    "# Latest Data Value\n",
    "df.index.max()"
   ]
  },
  {
   "cell_type": "code",
   "execution_count": 30,
   "id": "c5e1ebb1",
   "metadata": {},
   "outputs": [
    {
     "data": {
      "text/plain": [
       "2"
      ]
     },
     "execution_count": 30,
     "metadata": {},
     "output_type": "execute_result"
    }
   ],
   "source": [
    "# Latest Date Index Location\n",
    "df.index.argmax()"
   ]
  },
  {
   "cell_type": "code",
   "execution_count": 32,
   "id": "4c049e6e",
   "metadata": {},
   "outputs": [
    {
     "data": {
      "text/plain": [
       "0"
      ]
     },
     "execution_count": 32,
     "metadata": {},
     "output_type": "execute_result"
    }
   ],
   "source": [
    "# Earliest Date Index Location\n",
    "df.index.argmin()"
   ]
  },
  {
   "cell_type": "code",
   "execution_count": null,
   "id": "0fdf318b",
   "metadata": {},
   "outputs": [],
   "source": []
  }
 ],
 "metadata": {
  "kernelspec": {
   "display_name": "Python 3 (ipykernel)",
   "language": "python",
   "name": "python3"
  },
  "language_info": {
   "codemirror_mode": {
    "name": "ipython",
    "version": 3
   },
   "file_extension": ".py",
   "mimetype": "text/x-python",
   "name": "python",
   "nbconvert_exporter": "python",
   "pygments_lexer": "ipython3",
   "version": "3.11.5"
  }
 },
 "nbformat": 4,
 "nbformat_minor": 5
}
