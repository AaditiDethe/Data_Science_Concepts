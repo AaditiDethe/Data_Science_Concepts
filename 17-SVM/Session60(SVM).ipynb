{
 "cells": [
  {
   "cell_type": "markdown",
   "id": "14c5329e",
   "metadata": {},
   "source": [
    "# SVC- Support Vector Classifier"
   ]
  },
  {
   "cell_type": "markdown",
   "id": "233980b1",
   "metadata": {},
   "source": [
    "#### Import Important libraries"
   ]
  },
  {
   "cell_type": "code",
   "execution_count": 1,
   "id": "7e7a32d2",
   "metadata": {},
   "outputs": [],
   "source": [
    "import pandas as pd\n",
    "import numpy as np"
   ]
  },
  {
   "cell_type": "markdown",
   "id": "9ec53ee3",
   "metadata": {},
   "source": [
    "#### Load csv file into DataFrame"
   ]
  },
  {
   "cell_type": "code",
   "execution_count": 2,
   "id": "64ba9400",
   "metadata": {},
   "outputs": [],
   "source": [
    "letters = pd.read_csv(\"C:/17-SVM/letterdata.csv\")"
   ]
  },
  {
   "cell_type": "code",
   "execution_count": 4,
   "id": "7b21ef5e",
   "metadata": {},
   "outputs": [
    {
     "data": {
      "text/html": [
       "<div>\n",
       "<style scoped>\n",
       "    .dataframe tbody tr th:only-of-type {\n",
       "        vertical-align: middle;\n",
       "    }\n",
       "\n",
       "    .dataframe tbody tr th {\n",
       "        vertical-align: top;\n",
       "    }\n",
       "\n",
       "    .dataframe thead th {\n",
       "        text-align: right;\n",
       "    }\n",
       "</style>\n",
       "<table border=\"1\" class=\"dataframe\">\n",
       "  <thead>\n",
       "    <tr style=\"text-align: right;\">\n",
       "      <th></th>\n",
       "      <th>letter</th>\n",
       "      <th>xbox</th>\n",
       "      <th>ybox</th>\n",
       "      <th>width</th>\n",
       "      <th>height</th>\n",
       "      <th>onpix</th>\n",
       "      <th>xbar</th>\n",
       "      <th>ybar</th>\n",
       "      <th>x2bar</th>\n",
       "      <th>y2bar</th>\n",
       "      <th>xybar</th>\n",
       "      <th>x2ybar</th>\n",
       "      <th>xy2bar</th>\n",
       "      <th>xedge</th>\n",
       "      <th>xedgey</th>\n",
       "      <th>yedge</th>\n",
       "      <th>yedgex</th>\n",
       "    </tr>\n",
       "  </thead>\n",
       "  <tbody>\n",
       "    <tr>\n",
       "      <th>0</th>\n",
       "      <td>T</td>\n",
       "      <td>2</td>\n",
       "      <td>8</td>\n",
       "      <td>3</td>\n",
       "      <td>5</td>\n",
       "      <td>1</td>\n",
       "      <td>8</td>\n",
       "      <td>13</td>\n",
       "      <td>0</td>\n",
       "      <td>6</td>\n",
       "      <td>6</td>\n",
       "      <td>10</td>\n",
       "      <td>8</td>\n",
       "      <td>0</td>\n",
       "      <td>8</td>\n",
       "      <td>0</td>\n",
       "      <td>8</td>\n",
       "    </tr>\n",
       "    <tr>\n",
       "      <th>1</th>\n",
       "      <td>I</td>\n",
       "      <td>5</td>\n",
       "      <td>12</td>\n",
       "      <td>3</td>\n",
       "      <td>7</td>\n",
       "      <td>2</td>\n",
       "      <td>10</td>\n",
       "      <td>5</td>\n",
       "      <td>5</td>\n",
       "      <td>4</td>\n",
       "      <td>13</td>\n",
       "      <td>3</td>\n",
       "      <td>9</td>\n",
       "      <td>2</td>\n",
       "      <td>8</td>\n",
       "      <td>4</td>\n",
       "      <td>10</td>\n",
       "    </tr>\n",
       "    <tr>\n",
       "      <th>2</th>\n",
       "      <td>D</td>\n",
       "      <td>4</td>\n",
       "      <td>11</td>\n",
       "      <td>6</td>\n",
       "      <td>8</td>\n",
       "      <td>6</td>\n",
       "      <td>10</td>\n",
       "      <td>6</td>\n",
       "      <td>2</td>\n",
       "      <td>6</td>\n",
       "      <td>10</td>\n",
       "      <td>3</td>\n",
       "      <td>7</td>\n",
       "      <td>3</td>\n",
       "      <td>7</td>\n",
       "      <td>3</td>\n",
       "      <td>9</td>\n",
       "    </tr>\n",
       "    <tr>\n",
       "      <th>3</th>\n",
       "      <td>N</td>\n",
       "      <td>7</td>\n",
       "      <td>11</td>\n",
       "      <td>6</td>\n",
       "      <td>6</td>\n",
       "      <td>3</td>\n",
       "      <td>5</td>\n",
       "      <td>9</td>\n",
       "      <td>4</td>\n",
       "      <td>6</td>\n",
       "      <td>4</td>\n",
       "      <td>4</td>\n",
       "      <td>10</td>\n",
       "      <td>6</td>\n",
       "      <td>10</td>\n",
       "      <td>2</td>\n",
       "      <td>8</td>\n",
       "    </tr>\n",
       "    <tr>\n",
       "      <th>4</th>\n",
       "      <td>G</td>\n",
       "      <td>2</td>\n",
       "      <td>1</td>\n",
       "      <td>3</td>\n",
       "      <td>1</td>\n",
       "      <td>1</td>\n",
       "      <td>8</td>\n",
       "      <td>6</td>\n",
       "      <td>6</td>\n",
       "      <td>6</td>\n",
       "      <td>6</td>\n",
       "      <td>5</td>\n",
       "      <td>9</td>\n",
       "      <td>1</td>\n",
       "      <td>7</td>\n",
       "      <td>5</td>\n",
       "      <td>10</td>\n",
       "    </tr>\n",
       "  </tbody>\n",
       "</table>\n",
       "</div>"
      ],
      "text/plain": [
       "  letter  xbox  ybox  width  height  onpix  xbar  ybar  x2bar  y2bar  xybar  \\\n",
       "0      T     2     8      3       5      1     8    13      0      6      6   \n",
       "1      I     5    12      3       7      2    10     5      5      4     13   \n",
       "2      D     4    11      6       8      6    10     6      2      6     10   \n",
       "3      N     7    11      6       6      3     5     9      4      6      4   \n",
       "4      G     2     1      3       1      1     8     6      6      6      6   \n",
       "\n",
       "   x2ybar  xy2bar  xedge  xedgey  yedge  yedgex  \n",
       "0      10       8      0       8      0       8  \n",
       "1       3       9      2       8      4      10  \n",
       "2       3       7      3       7      3       9  \n",
       "3       4      10      6      10      2       8  \n",
       "4       5       9      1       7      5      10  "
      ]
     },
     "execution_count": 4,
     "metadata": {},
     "output_type": "execute_result"
    }
   ],
   "source": [
    "letters.head()"
   ]
  },
  {
   "cell_type": "markdown",
   "id": "9ae4ade7",
   "metadata": {},
   "source": [
    "Dataset typically used for handwritten character recognition or related machine learnign tasks. Here's a breakdown of its structure.\n"
   ]
  },
  {
   "cell_type": "markdown",
   "id": "ff0cb9ae",
   "metadata": {},
   "source": [
    "letter: represents the target class.\n",
    "\n",
    "Features (xbox to yedgex): these are numeric attributes describing various geometrics or statistical properties of the character.\n",
    "\n",
    "xbox and ybx: X and Y bounding box dimensions.\n",
    "\n",
    "    \n",
    "width and height: Width and Height of character's bounding box.\n",
    "\n",
    "onpix: Number of on-pixels in the character's image."
   ]
  },
  {
   "cell_type": "markdown",
   "id": "c3eb1806",
   "metadata": {},
   "source": [
    "#### Let's carry out EDA"
   ]
  },
  {
   "cell_type": "code",
   "execution_count": 5,
   "id": "4c2f59f6",
   "metadata": {},
   "outputs": [],
   "source": [
    "a = letters.describe()\n",
    "from sklearn.svm import SVC\n",
    "from sklearn.model_selection import train_test_split\n",
    "train, test = train_test_split(letters, test_size=0.2)"
   ]
  },
  {
   "cell_type": "markdown",
   "id": "ee19e740",
   "metadata": {},
   "source": [
    "#### Let us split the data in terms X and y for both train and test data"
   ]
  },
  {
   "cell_type": "code",
   "execution_count": 6,
   "id": "cb2b5642",
   "metadata": {},
   "outputs": [],
   "source": [
    "train_X = train.iloc[:,1:]\n",
    "train_y = train.iloc[:,0]\n",
    "test_X = test.iloc[:,1:]\n",
    "test_y = test.iloc[:,0]"
   ]
  },
  {
   "cell_type": "markdown",
   "id": "3ccc5353",
   "metadata": {},
   "source": [
    "#### Kernel Linear"
   ]
  },
  {
   "cell_type": "code",
   "execution_count": 7,
   "id": "507f3772",
   "metadata": {},
   "outputs": [],
   "source": [
    "model_linear = SVC(kernel = \"linear\")\n",
    "model_linear.fit(train_X, train_y)\n",
    "pred_test_linear = model_linear.predict(test_X)"
   ]
  },
  {
   "cell_type": "markdown",
   "id": "f2e0e2ff",
   "metadata": {},
   "source": [
    "#### Now let us check the accuracy"
   ]
  },
  {
   "cell_type": "code",
   "execution_count": 8,
   "id": "2d52df15",
   "metadata": {},
   "outputs": [
    {
     "data": {
      "text/plain": [
       "0.852"
      ]
     },
     "execution_count": 8,
     "metadata": {},
     "output_type": "execute_result"
    }
   ],
   "source": [
    "np.mean(pred_test_linear == test_y)"
   ]
  },
  {
   "cell_type": "markdown",
   "id": "4e50ead8",
   "metadata": {},
   "source": [
    "#### kernel rbf"
   ]
  },
  {
   "cell_type": "code",
   "execution_count": 9,
   "id": "bcac8aa8",
   "metadata": {},
   "outputs": [],
   "source": [
    "model_rbf = SVC(kernel = 'rbf')\n",
    "model_rbf.fit(train_X, train_y)\n",
    "pred_test_rbf = model_rbf.predict(test_X)"
   ]
  },
  {
   "cell_type": "markdown",
   "id": "a0e4baf8",
   "metadata": {},
   "source": [
    "#### Now let us check the accuracy"
   ]
  },
  {
   "cell_type": "code",
   "execution_count": 10,
   "id": "4ca92dc9",
   "metadata": {},
   "outputs": [
    {
     "data": {
      "text/plain": [
       "0.924"
      ]
     },
     "execution_count": 10,
     "metadata": {},
     "output_type": "execute_result"
    }
   ],
   "source": [
    "np.mean(pred_test_rbf == test_y)"
   ]
  },
  {
   "cell_type": "code",
   "execution_count": null,
   "id": "73aa77d6",
   "metadata": {},
   "outputs": [],
   "source": []
  }
 ],
 "metadata": {
  "kernelspec": {
   "display_name": "Python 3 (ipykernel)",
   "language": "python",
   "name": "python3"
  },
  "language_info": {
   "codemirror_mode": {
    "name": "ipython",
    "version": 3
   },
   "file_extension": ".py",
   "mimetype": "text/x-python",
   "name": "python",
   "nbconvert_exporter": "python",
   "pygments_lexer": "ipython3",
   "version": "3.11.5"
  }
 },
 "nbformat": 4,
 "nbformat_minor": 5
}
